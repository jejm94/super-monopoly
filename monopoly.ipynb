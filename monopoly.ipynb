{
 "cells": [
  {
   "cell_type": "code",
   "execution_count": 2,
   "metadata": {},
   "outputs": [],
   "source": [
    "reset -fs"
   ]
  },
  {
   "cell_type": "code",
   "execution_count": 3,
   "metadata": {},
   "outputs": [],
   "source": [
    "import numpy as np"
   ]
  },
  {
   "cell_type": "code",
   "execution_count": 109,
   "metadata": {},
   "outputs": [],
   "source": [
    "class monopoly():\n",
    "    def __init__(n_players, n_boards):\n",
    "        \"g = go, p = propery, cc = community chest, c = chance, t = taxes, j = jail, gtj = go to jail, l = lottery\"\n",
    "        self.static_rents = [[[2, 10, 30, 90, 160, 250], [4, 20, 60, 180, 320, 450]],\n",
    "                             [[6, 30, 90, 270, 400], [6, 30, 90, 270, 400],\n",
    "                              [8, 40, 100, 300, 450, 600]],\n",
    "                             [[10, 50, 150, 450, 625, 750], [10, 50, 150, 450, 625, 750],\n",
    "                              [12, 60, 180, 500, 700, 900]],\n",
    "                             [[14, 70, 200, 550, 750, 950], [14, 70, 200, 550, 750, 950],\n",
    "                              [16, 80, 220, 600, 800, 1000]],\n",
    "                             [[18, 90, 250, 700, 875, 1050], [18, 90, 250, 700, 875, 1050],\n",
    "                              [20, 100, 300, 750, 925, 1100]],\n",
    "                             [[22, 110, 330, 800, 975, 1150], [22, 110, 330, 800, 975, 1150],\n",
    "                              [24, 120, 360, 850, 1025, 1200]],\n",
    "                             [[26, 130, 390, 900, 1100, 1275], [26, 130, 390, 900, 1100, 1275],\n",
    "                              [28, 150, 450, 1000, 1200, 1400]],\n",
    "                             [[35, 175, 500, 1100, 1300, 1500], [50, 200, 600, 1400, 1700, 2000]]]\n",
    "        \n",
    "        self.purchase_prices = [None, 60, None, 60, None, 200, 100, None, 100, 120,\n",
    "                                None, 140, 150, 140, 160, 200, 180, None, 180, 200,\n",
    "                                None, 220, None, 220, 240, 200, 260, 260, 150, 280,\n",
    "                                None, 300, 300, None, 320, 200, None, 350, None, 400]\n",
    "        \n",
    "        self.spaces = ['g', 'p', 'cc', 'p', 't', 'p', 'p', 'c', 'p', 'p',\n",
    "                       'j', 'p', 'p', 'p', 'p', 'p', 'p', 'cc', 'p', 'p',\n",
    "                       'l', 'p', 'c', 'p', 'p', 'p', 'p', 'p', 'p', 'p',\n",
    "                       'gtj', 'p', 'p', 'cc', 'p', 'p', 'c', 'p', 't', 'p']\n",
    "        \n",
    "        self.n_boards = n_boards\n",
    "        self.n_players = n_players\n",
    "        self.positions = np.zeros((n_players,), dtype=int)\n",
    "        self.current_board = 0\n",
    "        self.current_player = self.first_player()\n",
    "\n",
    "    def roll_dice(self):\n",
    "        roll = np.random.randint(1, 7, size=2)\n",
    "        return roll[0], roll[1]\n",
    "    \n",
    "    def first_player(self):\n",
    "        rolls = [sum(roll_dice()) for p in range(self.n_players)]\n",
    "        highest_roll = max(rolls)\n",
    "        rolls = [p if p == highest_roll else 0 for p in rolls]\n",
    "        \n",
    "        while(highest_roll != sum(rolls)):\n",
    "            rolls = [sum(roll_dice()) if p != 0 else 0 for p in rolls]\n",
    "            highest_roll = max(rolls)\n",
    "            rolls = [p if p == highest_roll else 0 for p in rolls]\n",
    "        \n",
    "        return np.argmax(np.array(rolls))"
   ]
  }
 ],
 "metadata": {
  "kernelspec": {
   "display_name": "Python 3",
   "language": "python",
   "name": "python3"
  },
  "language_info": {
   "codemirror_mode": {
    "name": "ipython",
    "version": 3
   },
   "file_extension": ".py",
   "mimetype": "text/x-python",
   "name": "python",
   "nbconvert_exporter": "python",
   "pygments_lexer": "ipython3",
   "version": "3.7.4"
  }
 },
 "nbformat": 4,
 "nbformat_minor": 2
}
